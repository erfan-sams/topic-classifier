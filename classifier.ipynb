{
 "cells": [
  {
   "cell_type": "code",
   "execution_count": 1,
   "metadata": {},
   "outputs": [],
   "source": [
    "import pandas as pd\n",
    "import re\n",
    "import matplotlib.pyplot as plt\n",
    "import seaborn as sn\n",
    "\n",
    "from sklearn.naive_bayes import MultinomialNB\n",
    "from sklearn.feature_selection import chi2, SelectKBest\n",
    "from sklearn.feature_extraction.text import CountVectorizer\n",
    "from nltk.stem.snowball import SnowballStemmer\n",
    "from nltk.tokenize import word_tokenize\n",
    "from nltk.corpus import stopwords\n",
    "from sklearn.metrics import classification_report, confusion_matrix\n",
    "from sklearn.model_selection import train_test_split\n",
    "\n"
   ]
  },
  {
   "cell_type": "code",
   "execution_count": 2,
   "metadata": {},
   "outputs": [],
   "source": [
    "data = pd.read_csv('bbc/BBC News Train.csv')\n",
    "\n",
    "stop_words = set(stopwords.words('english'))\n",
    "stemmer = SnowballStemmer(language='english')\n",
    "\n",
    "y = data['Category'].tolist()\n",
    "\n"
   ]
  },
  {
   "cell_type": "code",
   "execution_count": 3,
   "metadata": {},
   "outputs": [],
   "source": [
    "def normalizer(text):\n",
    "    text = re.sub(r'[^a-zA-z]', ' ', text).lower()\n",
    "    word_tokens = word_tokenize(text)\n",
    "    filtered_sentence = [stemmer.stem(w) for w in word_tokens if not w in stop_words and len(w) > 2]\n",
    "    return filtered_sentence"
   ]
  },
  {
   "cell_type": "code",
   "execution_count": 4,
   "metadata": {},
   "outputs": [],
   "source": [
    "def feature(data):\n",
    "    feature_list = data['Text'].tolist()\n",
    "    return feature_list"
   ]
  },
  {
   "cell_type": "code",
   "execution_count": 5,
   "metadata": {},
   "outputs": [],
   "source": [
    "def vectorize(feature_list):\n",
    "    X_dtm = vect.fit_transform(feature_list)\n",
    "    X_dtm = X_dtm.toarray()\n",
    "    return X_dtm"
   ]
  },
  {
   "cell_type": "code",
   "execution_count": 6,
   "metadata": {},
   "outputs": [],
   "source": [
    "def feature_selection(k, X_dtm, y):\n",
    "    global chi2_features\n",
    "    chi2_features = SelectKBest(chi2, k=k)\n",
    "    X_kbest_features = chi2_features.fit_transform(X_dtm, y)\n",
    "    return X_kbest_features"
   ]
  },
  {
   "cell_type": "code",
   "execution_count": 7,
   "metadata": {},
   "outputs": [],
   "source": [
    "def proc(data):\n",
    "    tokens = feature(data)\n",
    "    transform_data = vect.transform(tokens).toarray()\n",
    "    selection_feature = chi2_features.transform(transform_data)\n",
    "    return selection_feature\n"
   ]
  },
  {
   "cell_type": "code",
   "execution_count": 8,
   "metadata": {},
   "outputs": [],
   "source": [
    "train_data , test_data , y_train, y_test = train_test_split(data, y, test_size=0.10, random_state=2)"
   ]
  },
  {
   "cell_type": "code",
   "execution_count": 9,
   "metadata": {},
   "outputs": [],
   "source": [
    "vect = CountVectorizer(tokenizer=normalizer)\n",
    "\n",
    "X_dtm = vectorize(feature(train_data))\n",
    "X_train = feature_selection(2000, X_dtm, y_train)\n",
    "\n",
    "X_test = proc(test_data)"
   ]
  },
  {
   "cell_type": "code",
   "execution_count": 10,
   "metadata": {},
   "outputs": [
    {
     "name": "stdout",
     "output_type": "stream",
     "text": [
      "               precision    recall  f1-score   support\n",
      "\n",
      "     business       0.97      0.97      0.97        34\n",
      "entertainment       0.97      1.00      0.98        31\n",
      "     politics       1.00      0.93      0.96        28\n",
      "        sport       1.00      1.00      1.00        28\n",
      "         tech       0.90      0.93      0.91        28\n",
      "\n",
      "     accuracy                           0.97       149\n",
      "    macro avg       0.97      0.97      0.97       149\n",
      " weighted avg       0.97      0.97      0.97       149\n",
      "\n"
     ]
    }
   ],
   "source": [
    "clf = MultinomialNB()\n",
    "clf.fit(X_train,y_train)\n",
    "predict_val_nb = clf.predict(X_test)\n",
    "print(classification_report(y_test, predict_val_nb))"
   ]
  },
  {
   "cell_type": "code",
   "execution_count": 11,
   "metadata": {},
   "outputs": [
    {
     "data": {
      "text/plain": [
       "<AxesSubplot:>"
      ]
     },
     "execution_count": 11,
     "metadata": {},
     "output_type": "execute_result"
    },
    {
     "data": {
      "image/png": "[encoded data removed]",
      "text/plain": [
       "<Figure size 504x360 with 2 Axes>"
      ]
     },
     "metadata": {
      "needs_background": "light"
     },
     "output_type": "display_data"
    }
   ],
   "source": [
    "array = confusion_matrix(y_test, predict_val_nb)\n",
    "df_cm = pd.DataFrame(array, index = ['business', 'entertainment', 'politics', 'sport', 'tech'],\n",
    "                  columns = ['business', 'entertainment', 'politics', 'sport', 'tech'])\n",
    "plt.figure(figsize = (7,5))\n",
    "sn.heatmap(df_cm, annot=True, linewidths=.5)"
   ]
  }
 ],
 "metadata": {
  "kernelspec": {
   "display_name": "Python 3",
   "language": "python",
   "name": "python3"
  },
  "language_info": {
   "codemirror_mode": {
    "name": "ipython",
    "version": 3
   },
   "file_extension": ".py",
   "mimetype": "text/x-python",
   "name": "python",
   "nbconvert_exporter": "python",
   "pygments_lexer": "ipython3",
   "version": "3.8.5"
  }
 },
 "nbformat": 4,
 "nbformat_minor": 4
}
